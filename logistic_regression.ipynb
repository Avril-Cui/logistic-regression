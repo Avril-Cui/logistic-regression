{
 "cells": [
  {
   "cell_type": "code",
   "execution_count": 193,
   "metadata": {},
   "outputs": [],
   "source": [
    "import numpy as np\n",
    "import matplotlib.pyplot as plt\n",
    "import random\n",
    "import math\n",
    "import pandas as pd"
   ]
  },
  {
   "attachments": {},
   "cell_type": "markdown",
   "metadata": {},
   "source": [
    "# Linear Logistic Classifier"
   ]
  },
  {
   "cell_type": "code",
   "execution_count": 205,
   "metadata": {},
   "outputs": [],
   "source": [
    "class LogisticRegression:\n",
    "    def __init__(self, training_data, n_features, learn_rate=0.01, n_iter=100, tolerance=0.001):\n",
    "        \"\"\"\n",
    "            learning_rate: float; step size of update;\n",
    "            training_data: DataFrame; raw dataset with two independent variables;\n",
    "            weights: array; output; coefficients\n",
    "            x: array; first independent variable;\n",
    "            y: array; second independent variable;\n",
    "            label: correct provided label;\n",
    "        \"\"\"\n",
    "        self.training_data = training_data\n",
    "        self.weights = np.zeros(n_features + 1)\n",
    "        # self.weights = np.zeros(n_features)\n",
    "        # self.weights_0 = 0\n",
    "        self.learn_rate = learn_rate\n",
    "        self.n_iter = n_iter\n",
    "        self.tolerance = tolerance\n",
    "\n",
    "        self.label = training_data['label'].to_numpy()\n",
    "    \n",
    "    def prepare_x(self, index):\n",
    "        x = [1]\n",
    "        for column_name in self.training_data.columns:\n",
    "            if column_name != \"label\":\n",
    "                x.append(self.training_data[column_name].to_numpy()[index])\n",
    "        return x\n",
    "    \n",
    "    # use sigmoid as the new classifier instead of a step function (0-1 loss)\n",
    "    def sigmoid(self, input):\n",
    "        output = 1/(1+math.e**(-input))\n",
    "        return output\n",
    "\n",
    "    # negative log likelihood = cross entropy\n",
    "    def loss(guess, actual):\n",
    "        loss = -(actual * np.log10(guess) + (1 - actual * np.log10(1-guess)))\n",
    "        return loss\n",
    "\n",
    "    # gradient of logistic regression with objective function\n",
    "    def gradient_lr(self, lamb = 0):\n",
    "        length = len(self.label)\n",
    "        total = 0\n",
    "        for index in range(length):\n",
    "            x = self.prepare_x(index)\n",
    "            guess = self.sigmoid(np.dot(np.transpose(self.weights), x))\n",
    "            actual = self.label[index]\n",
    "            total += np.multiply((guess - actual), x)\n",
    "        gradient = total/length + lamb * self.weights\n",
    "        return gradient\n",
    "    \n",
    "    # gradient descent process to get the local minimum\n",
    "    def gd(self):\n",
    "        for _ in range(self.n_iter):\n",
    "            gradient = self.gradient_lr()\n",
    "            self.weights -= self.learn_rate * gradient\n",
    "            if np.linalg.norm(gradient) <= self.tolerance:\n",
    "                break\n",
    "        return self.weights"
   ]
  },
  {
   "cell_type": "code",
   "execution_count": 206,
   "metadata": {},
   "outputs": [
    {
     "data": {
      "text/html": [
       "<div>\n",
       "<style scoped>\n",
       "    .dataframe tbody tr th:only-of-type {\n",
       "        vertical-align: middle;\n",
       "    }\n",
       "\n",
       "    .dataframe tbody tr th {\n",
       "        vertical-align: top;\n",
       "    }\n",
       "\n",
       "    .dataframe thead th {\n",
       "        text-align: right;\n",
       "    }\n",
       "</style>\n",
       "<table border=\"1\" class=\"dataframe\">\n",
       "  <thead>\n",
       "    <tr style=\"text-align: right;\">\n",
       "      <th></th>\n",
       "      <th>1</th>\n",
       "      <th>2</th>\n",
       "      <th>label</th>\n",
       "    </tr>\n",
       "  </thead>\n",
       "  <tbody>\n",
       "    <tr>\n",
       "      <th>0</th>\n",
       "      <td>-0.383362</td>\n",
       "      <td>-0.487992</td>\n",
       "      <td>0</td>\n",
       "    </tr>\n",
       "    <tr>\n",
       "      <th>1</th>\n",
       "      <td>-2.360335</td>\n",
       "      <td>-2.440053</td>\n",
       "      <td>0</td>\n",
       "    </tr>\n",
       "    <tr>\n",
       "      <th>2</th>\n",
       "      <td>-0.358443</td>\n",
       "      <td>0.141981</td>\n",
       "      <td>0</td>\n",
       "    </tr>\n",
       "    <tr>\n",
       "      <th>3</th>\n",
       "      <td>0.991341</td>\n",
       "      <td>0.804249</td>\n",
       "      <td>0</td>\n",
       "    </tr>\n",
       "    <tr>\n",
       "      <th>4</th>\n",
       "      <td>-0.133086</td>\n",
       "      <td>-0.237400</td>\n",
       "      <td>0</td>\n",
       "    </tr>\n",
       "    <tr>\n",
       "      <th>...</th>\n",
       "      <td>...</td>\n",
       "      <td>...</td>\n",
       "      <td>...</td>\n",
       "    </tr>\n",
       "    <tr>\n",
       "      <th>1995</th>\n",
       "      <td>0.095230</td>\n",
       "      <td>3.332253</td>\n",
       "      <td>1</td>\n",
       "    </tr>\n",
       "    <tr>\n",
       "      <th>1996</th>\n",
       "      <td>-1.062603</td>\n",
       "      <td>2.929609</td>\n",
       "      <td>1</td>\n",
       "    </tr>\n",
       "    <tr>\n",
       "      <th>1997</th>\n",
       "      <td>1.550248</td>\n",
       "      <td>4.898206</td>\n",
       "      <td>1</td>\n",
       "    </tr>\n",
       "    <tr>\n",
       "      <th>1998</th>\n",
       "      <td>0.059165</td>\n",
       "      <td>4.654552</td>\n",
       "      <td>1</td>\n",
       "    </tr>\n",
       "    <tr>\n",
       "      <th>1999</th>\n",
       "      <td>0.837489</td>\n",
       "      <td>5.211599</td>\n",
       "      <td>1</td>\n",
       "    </tr>\n",
       "  </tbody>\n",
       "</table>\n",
       "<p>2000 rows × 3 columns</p>\n",
       "</div>"
      ],
      "text/plain": [
       "             1         2  label\n",
       "0    -0.383362 -0.487992      0\n",
       "1    -2.360335 -2.440053      0\n",
       "2    -0.358443  0.141981      0\n",
       "3     0.991341  0.804249      0\n",
       "4    -0.133086 -0.237400      0\n",
       "...        ...       ...    ...\n",
       "1995  0.095230  3.332253      1\n",
       "1996 -1.062603  2.929609      1\n",
       "1997  1.550248  4.898206      1\n",
       "1998  0.059165  4.654552      1\n",
       "1999  0.837489  5.211599      1\n",
       "\n",
       "[2000 rows x 3 columns]"
      ]
     },
     "execution_count": 206,
     "metadata": {},
     "output_type": "execute_result"
    }
   ],
   "source": [
    "data = pd.read_csv(\"data.csv\")\n",
    "data.rename(columns={'3': 'label'}, inplace=True)\n",
    "data = data.drop(columns=['0'])\n",
    "data"
   ]
  },
  {
   "cell_type": "code",
   "execution_count": 207,
   "metadata": {},
   "outputs": [],
   "source": [
    "lr = LogisticRegression(training_data=data, n_features=2, learn_rate=10, n_iter=100, tolerance=0.001)\n",
    "weights = lr.gd()"
   ]
  },
  {
   "cell_type": "code",
   "execution_count": 209,
   "metadata": {},
   "outputs": [
    {
     "data": {
      "text/plain": [
       "[<matplotlib.lines.Line2D at 0x7fd070d767c0>]"
      ]
     },
     "execution_count": 209,
     "metadata": {},
     "output_type": "execute_result"
    },
    {
     "data": {
      "image/png": "[encoded data removed]",
      "text/plain": [
       "<Figure size 360x216 with 1 Axes>"
      ]
     },
     "metadata": {
      "needs_background": "light"
     },
     "output_type": "display_data"
    }
   ],
   "source": [
    "line_indpt = np.linspace(-4, 4, 100)\n",
    "line = -weights[0]/weights[2] + ((-weights[1])/weights[2]) * line_indpt\n",
    "color = np.where(data[\"label\"]<1,'g', 'b')\n",
    "plt.figure(figsize=(5,3))\n",
    "plt.scatter(data[\"1\"], data[\"2\"], s=3, c=color, alpha=0.5)\n",
    "plt.plot(line_indpt, line, color=\"orange\")"
   ]
  }
 ],
 "metadata": {
  "kernelspec": {
   "display_name": "base",
   "language": "python",
   "name": "python3"
  },
  "language_info": {
   "codemirror_mode": {
    "name": "ipython",
    "version": 3
   },
   "file_extension": ".py",
   "mimetype": "text/x-python",
   "name": "python",
   "nbconvert_exporter": "python",
   "pygments_lexer": "ipython3",
   "version": "3.9.1"
  },
  "orig_nbformat": 4
 },
 "nbformat": 4,
 "nbformat_minor": 2
}
